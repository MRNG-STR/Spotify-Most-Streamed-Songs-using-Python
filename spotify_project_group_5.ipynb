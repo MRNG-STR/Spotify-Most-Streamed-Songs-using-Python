{
 "cells": [
  {
   "cell_type": "markdown",
   "metadata": {},
   "source": [
    "<h1 style=\"text-align:center\">Most Streamed Songs in Spotify(2023)</h1>\n",
    "\n",
    "<h2>Objectives</h2>\n",
    "<ul>\n",
    "    <li>Data wrangling</li>\n",
    "    <li>Data manipulation</li>\n",
    "    <li>Data modeling</li>\n",
    "    <li>Data visualization</li>\n",
    "</ul>\n",
    "\n",
    "<h2> Table of Contents </h2>\n",
    "<div class = \"alert alert-success\">\n",
    "    <ul>\n",
    "        <li><a href=\"#introduction\">Introduction</a></li>\n",
    "        <li><a href=\"#business_understanding\">Business understanding</a></li>\n",
    "        <li><a href=\"#data_preparation\">Data preparation</a></li>\n",
    "        <li><a href=\"#modeling\">Modeling</a></li>\n",
    "        <li><a href=\"#evaluation\">Evaluation</a></li>\n",
    "        <li><a href=\"#deployment\">Deployment</a></li>\n",
    "        <li><a href=\"#conclusion\">Conclusion</a></li>\n",
    "    </ul>\n",
    "</div>\n"
   ]
  },
  {
   "cell_type": "markdown",
   "metadata": {},
   "source": [
    "<h1 id=\"introduction\">Introduction</h1>\n",
    "\n",
    "<p style=\"font-weight:bold; font-size: 18px; text-decoration: underline;\">Data-source<p>\n",
    "<p>URL: <a href=\"https://www.kaggle.com/datasets/nelgiriyewithana/top-spotify-songs-2023/data\">Most streamed songs Spotify(2023)</a></p>"
   ]
  },
  {
   "cell_type": "markdown",
   "metadata": {},
   "source": [
    "<h1 id=\"business_understanding\">1. Business understanding</h1>"
   ]
  },
  {
   "cell_type": "markdown",
   "metadata": {},
   "source": [
    "<p> Analytics in music streaming plays an important role to find, measure, and report the songs, albums, playlists. This helps the user to find the songs, albums, playlists of their choice. Through analyzing the music streaming data, one can easily find the summary, pattern and relationship between the  every songs, it's album and it's playlist. Moreover, this can help the user to identify the information about the artists and their composition for the year </p>"
   ]
  },
  {
   "cell_type": "markdown",
   "metadata": {},
   "source": [
    "<h1 id=\"data_preparation\">2. Data preparation</h1>\n",
    "\n",
    "<h3 id=\"data_cleaning\"><u>Data Cleaning</u></h3>\n",
    "\n",
    "<p> Data cleaning includes handling the missing values, correcting the data formats, reshaping the data, removing leading and trailing whitespaces, filtering the unwanted data from the dataset. </p> "
   ]
  },
  {
   "cell_type": "markdown",
   "metadata": {},
   "source": [
    "<p> Importing pandas and numpy libraries, storing the data by reading it from the spotify dataset which is in .csv format, and display the first 5 rows with all its columns </p>"
   ]
  },
  {
   "cell_type": "code",
   "execution_count": 1,
   "metadata": {},
   "outputs": [
    {
     "data": {
      "text/html": [
       "<div>\n",
       "<style scoped>\n",
       "    .dataframe tbody tr th:only-of-type {\n",
       "        vertical-align: middle;\n",
       "    }\n",
       "\n",
       "    .dataframe tbody tr th {\n",
       "        vertical-align: top;\n",
       "    }\n",
       "\n",
       "    .dataframe thead th {\n",
       "        text-align: right;\n",
       "    }\n",
       "</style>\n",
       "<table border=\"1\" class=\"dataframe\">\n",
       "  <thead>\n",
       "    <tr style=\"text-align: right;\">\n",
       "      <th></th>\n",
       "      <th>track_name</th>\n",
       "      <th>artist(s)_name</th>\n",
       "      <th>artist_count</th>\n",
       "      <th>released_year</th>\n",
       "      <th>released_month</th>\n",
       "      <th>released_day</th>\n",
       "      <th>in_spotify_playlists</th>\n",
       "      <th>in_spotify_charts</th>\n",
       "      <th>streams</th>\n",
       "      <th>in_apple_playlists</th>\n",
       "      <th>...</th>\n",
       "      <th>bpm</th>\n",
       "      <th>key</th>\n",
       "      <th>mode</th>\n",
       "      <th>danceability_%</th>\n",
       "      <th>valence_%</th>\n",
       "      <th>energy_%</th>\n",
       "      <th>acousticness_%</th>\n",
       "      <th>instrumentalness_%</th>\n",
       "      <th>liveness_%</th>\n",
       "      <th>speechiness_%</th>\n",
       "    </tr>\n",
       "  </thead>\n",
       "  <tbody>\n",
       "    <tr>\n",
       "      <th>0</th>\n",
       "      <td>Seven (feat. Latto) (Explicit Ver.)</td>\n",
       "      <td>Latto, Jung Kook</td>\n",
       "      <td>2</td>\n",
       "      <td>2023</td>\n",
       "      <td>7</td>\n",
       "      <td>14</td>\n",
       "      <td>553</td>\n",
       "      <td>147</td>\n",
       "      <td>141381703</td>\n",
       "      <td>43</td>\n",
       "      <td>...</td>\n",
       "      <td>125</td>\n",
       "      <td>B</td>\n",
       "      <td>Major</td>\n",
       "      <td>80</td>\n",
       "      <td>89</td>\n",
       "      <td>83</td>\n",
       "      <td>31</td>\n",
       "      <td>0</td>\n",
       "      <td>8</td>\n",
       "      <td>4</td>\n",
       "    </tr>\n",
       "    <tr>\n",
       "      <th>1</th>\n",
       "      <td>LALA</td>\n",
       "      <td>Myke Towers</td>\n",
       "      <td>1</td>\n",
       "      <td>2023</td>\n",
       "      <td>3</td>\n",
       "      <td>23</td>\n",
       "      <td>1474</td>\n",
       "      <td>48</td>\n",
       "      <td>133716286</td>\n",
       "      <td>48</td>\n",
       "      <td>...</td>\n",
       "      <td>92</td>\n",
       "      <td>C#</td>\n",
       "      <td>Major</td>\n",
       "      <td>71</td>\n",
       "      <td>61</td>\n",
       "      <td>74</td>\n",
       "      <td>7</td>\n",
       "      <td>0</td>\n",
       "      <td>10</td>\n",
       "      <td>4</td>\n",
       "    </tr>\n",
       "    <tr>\n",
       "      <th>2</th>\n",
       "      <td>vampire</td>\n",
       "      <td>Olivia Rodrigo</td>\n",
       "      <td>1</td>\n",
       "      <td>2023</td>\n",
       "      <td>6</td>\n",
       "      <td>30</td>\n",
       "      <td>1397</td>\n",
       "      <td>113</td>\n",
       "      <td>140003974</td>\n",
       "      <td>94</td>\n",
       "      <td>...</td>\n",
       "      <td>138</td>\n",
       "      <td>F</td>\n",
       "      <td>Major</td>\n",
       "      <td>51</td>\n",
       "      <td>32</td>\n",
       "      <td>53</td>\n",
       "      <td>17</td>\n",
       "      <td>0</td>\n",
       "      <td>31</td>\n",
       "      <td>6</td>\n",
       "    </tr>\n",
       "    <tr>\n",
       "      <th>3</th>\n",
       "      <td>Cruel Summer</td>\n",
       "      <td>Taylor Swift</td>\n",
       "      <td>1</td>\n",
       "      <td>2019</td>\n",
       "      <td>8</td>\n",
       "      <td>23</td>\n",
       "      <td>7858</td>\n",
       "      <td>100</td>\n",
       "      <td>800840817</td>\n",
       "      <td>116</td>\n",
       "      <td>...</td>\n",
       "      <td>170</td>\n",
       "      <td>A</td>\n",
       "      <td>Major</td>\n",
       "      <td>55</td>\n",
       "      <td>58</td>\n",
       "      <td>72</td>\n",
       "      <td>11</td>\n",
       "      <td>0</td>\n",
       "      <td>11</td>\n",
       "      <td>15</td>\n",
       "    </tr>\n",
       "    <tr>\n",
       "      <th>4</th>\n",
       "      <td>WHERE SHE GOES</td>\n",
       "      <td>Bad Bunny</td>\n",
       "      <td>1</td>\n",
       "      <td>2023</td>\n",
       "      <td>5</td>\n",
       "      <td>18</td>\n",
       "      <td>3133</td>\n",
       "      <td>50</td>\n",
       "      <td>303236322</td>\n",
       "      <td>84</td>\n",
       "      <td>...</td>\n",
       "      <td>144</td>\n",
       "      <td>A</td>\n",
       "      <td>Minor</td>\n",
       "      <td>65</td>\n",
       "      <td>23</td>\n",
       "      <td>80</td>\n",
       "      <td>14</td>\n",
       "      <td>63</td>\n",
       "      <td>11</td>\n",
       "      <td>6</td>\n",
       "    </tr>\n",
       "  </tbody>\n",
       "</table>\n",
       "<p>5 rows × 24 columns</p>\n",
       "</div>"
      ],
      "text/plain": [
       "                            track_name    artist(s)_name  artist_count  \\\n",
       "0  Seven (feat. Latto) (Explicit Ver.)  Latto, Jung Kook             2   \n",
       "1                                 LALA       Myke Towers             1   \n",
       "2                              vampire    Olivia Rodrigo             1   \n",
       "3                         Cruel Summer      Taylor Swift             1   \n",
       "4                       WHERE SHE GOES         Bad Bunny             1   \n",
       "\n",
       "   released_year  released_month  released_day  in_spotify_playlists  \\\n",
       "0           2023               7            14                   553   \n",
       "1           2023               3            23                  1474   \n",
       "2           2023               6            30                  1397   \n",
       "3           2019               8            23                  7858   \n",
       "4           2023               5            18                  3133   \n",
       "\n",
       "   in_spotify_charts    streams  in_apple_playlists  ...  bpm key   mode  \\\n",
       "0                147  141381703                  43  ...  125   B  Major   \n",
       "1                 48  133716286                  48  ...   92  C#  Major   \n",
       "2                113  140003974                  94  ...  138   F  Major   \n",
       "3                100  800840817                 116  ...  170   A  Major   \n",
       "4                 50  303236322                  84  ...  144   A  Minor   \n",
       "\n",
       "  danceability_%  valence_% energy_% acousticness_%  instrumentalness_%  \\\n",
       "0             80         89       83             31                   0   \n",
       "1             71         61       74              7                   0   \n",
       "2             51         32       53             17                   0   \n",
       "3             55         58       72             11                   0   \n",
       "4             65         23       80             14                  63   \n",
       "\n",
       "   liveness_%  speechiness_%  \n",
       "0           8              4  \n",
       "1          10              4  \n",
       "2          31              6  \n",
       "3          11             15  \n",
       "4          11              6  \n",
       "\n",
       "[5 rows x 24 columns]"
      ]
     },
     "execution_count": 1,
     "metadata": {},
     "output_type": "execute_result"
    }
   ],
   "source": [
    "import pandas as pd\n",
    "import numpy as np\n",
    "import matplotlib.pyplot as plt\n",
    "from tabulate import tabulate\n",
    "\n",
    "data = pd.read_csv(\"./group_5-most_streamed_songs_spotify_2023.csv\")\n",
    "\n",
    "data.head()"
   ]
  },
  {
   "cell_type": "markdown",
   "metadata": {},
   "source": [
    "<h5><u>Renaming column names</u></h5>\n",
    "\n",
    "<p>Since there are some conflicts in uniformity of column names, They are getting replaced with new, relevant column names </p>"
   ]
  },
  {
   "cell_type": "code",
   "execution_count": 2,
   "metadata": {},
   "outputs": [
    {
     "data": {
      "text/plain": [
       "Index(['track_name', 'artist(s)_name', 'artist_count', 'released_year',\n",
       "       'released_month', 'released_day', 'in_spotify_playlists',\n",
       "       'in_spotify_charts', 'streams', 'in_apple_playlists', 'in_apple_charts',\n",
       "       'in_deezer_playlists', 'in_deezer_charts', 'in_shazam_charts', 'bpm',\n",
       "       'key', 'mode', 'danceability_%', 'valence_%', 'energy_%',\n",
       "       'acousticness_%', 'instrumentalness_%', 'liveness_%', 'speechiness_%'],\n",
       "      dtype='object')"
      ]
     },
     "execution_count": 2,
     "metadata": {},
     "output_type": "execute_result"
    }
   ],
   "source": [
    "data.columns"
   ]
  },
  {
   "cell_type": "code",
   "execution_count": 3,
   "metadata": {},
   "outputs": [
    {
     "data": {
      "text/plain": [
       "Index(['track_name', 'artist_name', 'artist_count', 'released_year',\n",
       "       'released_month', 'released_day', 'in_spotify_playlists',\n",
       "       'in_spotify_charts', 'spotify_streams', 'in_apple_playlists',\n",
       "       'in_apple_charts', 'in_deezer_playlists', 'in_deezer_charts',\n",
       "       'in_shazam_charts', 'bpm', 'key', 'mode', 'danceability_%', 'valence_%',\n",
       "       'energy_%', 'acousticness_%', 'instrumentalness_%', 'liveness_%',\n",
       "       'speechiness_%'],\n",
       "      dtype='object')"
      ]
     },
     "execution_count": 3,
     "metadata": {},
     "output_type": "execute_result"
    }
   ],
   "source": [
    "data.rename(columns= {\"artist(s)_name\" : \"artist_name\",\n",
    "                      \"streams\" : \"spotify_streams\"}, inplace=True)\n",
    "\n",
    "data.columns"
   ]
  },
  {
   "cell_type": "markdown",
   "metadata": {},
   "source": [
    "<h5><u>Identifying and handling missing values</u></h5>"
   ]
  },
  {
   "cell_type": "markdown",
   "metadata": {},
   "source": [
    "Getting the total counts of NaN values from each columns with its names"
   ]
  },
  {
   "cell_type": "code",
   "execution_count": 4,
   "metadata": {},
   "outputs": [
    {
     "data": {
      "text/plain": [
       "track_name               0\n",
       "artist_name              0\n",
       "artist_count             0\n",
       "released_year            0\n",
       "released_month           0\n",
       "released_day             0\n",
       "in_spotify_playlists     0\n",
       "in_spotify_charts        0\n",
       "spotify_streams          0\n",
       "in_apple_playlists       0\n",
       "in_apple_charts          0\n",
       "in_deezer_playlists      0\n",
       "in_deezer_charts         0\n",
       "in_shazam_charts        50\n",
       "bpm                      0\n",
       "key                     95\n",
       "mode                     0\n",
       "danceability_%           0\n",
       "valence_%                0\n",
       "energy_%                 0\n",
       "acousticness_%           0\n",
       "instrumentalness_%       0\n",
       "liveness_%               0\n",
       "speechiness_%            0\n",
       "dtype: int64"
      ]
     },
     "execution_count": 4,
     "metadata": {},
     "output_type": "execute_result"
    }
   ],
   "source": [
    "data.isna().sum()"
   ]
  },
  {
   "cell_type": "markdown",
   "metadata": {},
   "source": [
    "<p>Replacing the empty cells with NaN (Not a number). So, it will be easier to identify the missing values</p>\n",
    "\n",
    "<p> To cross check the code execution, One of the empty values from the column \"in_shazam_charts\" have be displayed, which is now replaced as NaN</P>"
   ]
  },
  {
   "cell_type": "code",
   "execution_count": 5,
   "metadata": {},
   "outputs": [
    {
     "data": {
      "text/html": [
       "<div>\n",
       "<style scoped>\n",
       "    .dataframe tbody tr th:only-of-type {\n",
       "        vertical-align: middle;\n",
       "    }\n",
       "\n",
       "    .dataframe tbody tr th {\n",
       "        vertical-align: top;\n",
       "    }\n",
       "\n",
       "    .dataframe thead th {\n",
       "        text-align: right;\n",
       "    }\n",
       "</style>\n",
       "<table border=\"1\" class=\"dataframe\">\n",
       "  <thead>\n",
       "    <tr style=\"text-align: right;\">\n",
       "      <th></th>\n",
       "      <th>in_shazam_charts</th>\n",
       "    </tr>\n",
       "  </thead>\n",
       "  <tbody>\n",
       "    <tr>\n",
       "      <th>14</th>\n",
       "      <td>NaN</td>\n",
       "    </tr>\n",
       "  </tbody>\n",
       "</table>\n",
       "</div>"
      ],
      "text/plain": [
       "   in_shazam_charts\n",
       "14              NaN"
      ]
     },
     "execution_count": 5,
     "metadata": {},
     "output_type": "execute_result"
    }
   ],
   "source": [
    "data.replace(\"\", np.nan, inplace=True)\n",
    "\n",
    "data.query('track_name == \"As It Was\"').loc[:,['in_shazam_charts']]"
   ]
  },
  {
   "cell_type": "markdown",
   "metadata": {},
   "source": [
    "<h5><u>Removing comma from the object and converting their datatype to integer</u></h5>"
   ]
  },
  {
   "cell_type": "code",
   "execution_count": 6,
   "metadata": {},
   "outputs": [
    {
     "data": {
      "text/plain": [
       "track_name              object\n",
       "artist_name             object\n",
       "artist_count             int64\n",
       "released_year            int64\n",
       "released_month           int64\n",
       "released_day             int64\n",
       "in_spotify_playlists     int64\n",
       "in_spotify_charts        int64\n",
       "spotify_streams         object\n",
       "in_apple_playlists       int64\n",
       "in_apple_charts          int64\n",
       "in_deezer_playlists     object\n",
       "in_deezer_charts         int64\n",
       "in_shazam_charts        object\n",
       "bpm                      int64\n",
       "key                     object\n",
       "mode                    object\n",
       "danceability_%           int64\n",
       "valence_%                int64\n",
       "energy_%                 int64\n",
       "acousticness_%           int64\n",
       "instrumentalness_%       int64\n",
       "liveness_%               int64\n",
       "speechiness_%            int64\n",
       "dtype: object"
      ]
     },
     "execution_count": 6,
     "metadata": {},
     "output_type": "execute_result"
    }
   ],
   "source": [
    "# Finding datatypes of every column\n",
    "\n",
    "data.dtypes"
   ]
  },
  {
   "cell_type": "code",
   "execution_count": 7,
   "metadata": {},
   "outputs": [],
   "source": [
    "# Removing the comma from the object in specific columns\n",
    "\n",
    "data['in_deezer_playlists'] = data['in_deezer_playlists'].str.replace(',', '')\n",
    "data['in_shazam_charts'] = data['in_shazam_charts'].str.replace(',', '')\n"
   ]
  },
  {
   "cell_type": "markdown",
   "metadata": {},
   "source": [
    "<p>From the above total count of NaN values summary, it is clear that \"in_shazam_charts\" and \"key\" columns has some Nan values in it</p>\n",
    "\n",
    "<p>The values in the column \"in_shazam_charts\" are discrete in nature. So, NaN values are getting filled with its mean value by assigning zero to convert it datatype</p>"
   ]
  },
  {
   "cell_type": "code",
   "execution_count": 8,
   "metadata": {},
   "outputs": [],
   "source": [
    "# finding the median value and replacing it with the empty values in \"in_shazam_charts\" columns\n",
    "\n",
    "data['in_shazam_charts'].replace(np.NaN, 0, inplace=True)\n",
    "data[\"in_shazam_charts\"] = data[\"in_shazam_charts\"].astype(np.int64)\n",
    "in_shazam_charts_median = data['in_shazam_charts'].mean()\n",
    "data['in_shazam_charts'].replace(0, in_shazam_charts_median, inplace=True)\n",
    "\n",
    "\n",
    "# Replacing the empty values with a string \"unknown_key\" denoting its uncertainty\n",
    "\n",
    "in_key_unknown = \"unknown_key\"\n",
    "data['key'].replace(np.nan, in_key_unknown, inplace=True)"
   ]
  },
  {
   "cell_type": "markdown",
   "metadata": {},
   "source": [
    "<p>Spotify streams has integer values. But, It is defined as object datatype. After analyzing it's column data, we came through some values that aren't integer. Hence, It has to be handled by assigning the mean value of spotify streams. Below are the steps to assign them.</p>"
   ]
  },
  {
   "cell_type": "code",
   "execution_count": 9,
   "metadata": {},
   "outputs": [
    {
     "name": "stdout",
     "output_type": "stream",
     "text": [
      "[574]\n"
     ]
    }
   ],
   "source": [
    "# find the non-numeric value from spotify streams\n",
    "\n",
    "non_numeric_value_index = []\n",
    "for x in data['spotify_streams']:\n",
    "    if(x.isdigit()): #check whether the value is a digit\n",
    "        pass\n",
    "    else: \n",
    "        non_numeric_value_index.append(data.query('spotify_streams == @x').index[0])\n",
    "print(non_numeric_value_index)"
   ]
  },
  {
   "cell_type": "code",
   "execution_count": 10,
   "metadata": {},
   "outputs": [],
   "source": [
    "# Replacing the non-numeric values with zero in spotify streams\n",
    "\n",
    "for value in non_numeric_value_index:\n",
    "    data.loc[value,'spotify_streams'] = 0"
   ]
  },
  {
   "cell_type": "code",
   "execution_count": 11,
   "metadata": {},
   "outputs": [],
   "source": [
    "# find the mean value for \"spotify streams\" by changing its type\n",
    "\n",
    "data[\"spotify_streams\"] = data[\"spotify_streams\"].astype(np.int64)\n",
    "spotify_streams_mean = data[\"spotify_streams\"].mean()\n",
    "\n",
    "\n",
    "# Assigning the mean value to the spotify streams zero values\n",
    "\n",
    "for value in non_numeric_value_index:\n",
    "    data.loc[value,'spotify_streams'] = spotify_streams_mean\n",
    "\n",
    "data[\"spotify_streams\"] = data[\"spotify_streams\"].astype(np.int64)"
   ]
  },
  {
   "cell_type": "code",
   "execution_count": 12,
   "metadata": {},
   "outputs": [
    {
     "data": {
      "text/plain": [
       "track_name              0\n",
       "artist_name             0\n",
       "artist_count            0\n",
       "released_year           0\n",
       "released_month          0\n",
       "released_day            0\n",
       "in_spotify_playlists    0\n",
       "in_spotify_charts       0\n",
       "spotify_streams         0\n",
       "in_apple_playlists      0\n",
       "in_apple_charts         0\n",
       "in_deezer_playlists     0\n",
       "in_deezer_charts        0\n",
       "in_shazam_charts        0\n",
       "bpm                     0\n",
       "key                     0\n",
       "mode                    0\n",
       "danceability_%          0\n",
       "valence_%               0\n",
       "energy_%                0\n",
       "acousticness_%          0\n",
       "instrumentalness_%      0\n",
       "liveness_%              0\n",
       "speechiness_%           0\n",
       "dtype: int64"
      ]
     },
     "execution_count": 12,
     "metadata": {},
     "output_type": "execute_result"
    }
   ],
   "source": [
    "# checking for Nan values\n",
    "\n",
    "data.isna().sum()"
   ]
  },
  {
   "cell_type": "markdown",
   "metadata": {},
   "source": [
    "<p>Converting the column datatype for \"in_deezer_playlists\" and \"in_shazam_charts\""
   ]
  },
  {
   "cell_type": "code",
   "execution_count": 13,
   "metadata": {},
   "outputs": [],
   "source": [
    "data['in_deezer_playlists'] = data['in_deezer_playlists'].astype(np.int64)\n",
    "\n",
    "data['in_shazam_charts'] = data['in_shazam_charts'].astype(np.int64)"
   ]
  },
  {
   "cell_type": "code",
   "execution_count": 102,
   "metadata": {},
   "outputs": [
    {
     "data": {
      "text/plain": [
       "track_name              object\n",
       "artist_name             object\n",
       "artist_count             int64\n",
       "released_year            int64\n",
       "released_month           int64\n",
       "released_day             int64\n",
       "in_spotify_playlists     int64\n",
       "in_spotify_charts        int64\n",
       "spotify_streams          int64\n",
       "in_apple_playlists       int64\n",
       "in_apple_charts          int64\n",
       "in_deezer_playlists      int64\n",
       "in_deezer_charts         int64\n",
       "in_shazam_charts         int64\n",
       "bpm                      int64\n",
       "key                     object\n",
       "mode                    object\n",
       "danceability_%           int64\n",
       "valence_%                int64\n",
       "energy_%                 int64\n",
       "acousticness_%           int64\n",
       "instrumentalness_%       int64\n",
       "liveness_%               int64\n",
       "speechiness_%            int64\n",
       "dtype: object"
      ]
     },
     "execution_count": 102,
     "metadata": {},
     "output_type": "execute_result"
    }
   ],
   "source": [
    "# checking the datatypes of the values\n",
    "\n",
    "data.dtypes"
   ]
  },
  {
   "cell_type": "markdown",
   "metadata": {},
   "source": [
    "<h5><u>Removing the duplicates from the dataset</h5></u>"
   ]
  },
  {
   "cell_type": "code",
   "execution_count": 14,
   "metadata": {},
   "outputs": [],
   "source": [
    "data.drop_duplicates(inplace=True)"
   ]
  },
  {
   "cell_type": "markdown",
   "metadata": {},
   "source": [
    "<h3 id=\"data_standardization\">Data Standardization</h3>\n",
    "\n",
    "<p> Data standardization includes processing the data by converting its structure, removing unwanted strings, replacing shorthand expression for large data values </p>"
   ]
  },
  {
   "cell_type": "markdown",
   "metadata": {},
   "source": [
    "<h5><u>Removing unwanted substring from the dataset</u></h5>\n",
    "\n",
    "<p>This dataset consists of some substrings that are unicode character \"ï¿\". This is found in \"track_name\" and \"artist_name\" columns</p>"
   ]
  },
  {
   "cell_type": "code",
   "execution_count": 15,
   "metadata": {},
   "outputs": [],
   "source": [
    "#Replacing the strings with the unicode in track_name and artist_name\n",
    "\n",
    "data[\"track_name\"] = data[\"track_name\"].str.replace(\"ï¿½\",\"\")\n",
    "data[\"track_name\"] = data[\"track_name\"].str.replace(\"ï¿\",\"\")\n",
    "data[\"artist_name\"] = data[\"artist_name\"].str.replace(\"ï¿½\",\"\")\n",
    "data[\"artist_name\"] = data[\"artist_name\"].str.replace(\"ï¿\",\"\")"
   ]
  },
  {
   "cell_type": "markdown",
   "metadata": {},
   "source": [
    "<h5><u>Styling and exporting the dataset</h5></u>"
   ]
  },
  {
   "cell_type": "code",
   "execution_count": 178,
   "metadata": {},
   "outputs": [],
   "source": [
    "# Adding border to header, index and changing its font-weight to bold\n",
    "\n",
    "data.style.set_table_styles(\n",
    "    [{'selector': 'th',\n",
    "      'props': [('font-weight', 'bold'),\n",
    "                ('border','1px solid black')]}]\n",
    ")\n",
    "\n",
    "\n",
    "# exporting the cleaned csv file\n",
    "\n",
    "data.to_excel(\"./cleaned_file_group_5.xlsx\", index_label=\"unique_id\", sheet_name=\"spotify_data_2023\")"
   ]
  },
  {
   "cell_type": "markdown",
   "metadata": {},
   "source": [
    "<h1 id=\"modeling\">Modeling</h1>\n",
    "\n",
    "<h3 id=\"data_manipulation\"><u>Data manipulation</u></h3>\n",
    "\n",
    "<p>Data manipulation includes finding the descriptive statistics for the quantitative data, analyzing and finding patterns, relationship, and association between two or more relevant column data by grouping them, measuring the data's location, variability, analyzing it's distribution. By manipulating a data, it will produce meaningful insights.</p>"
   ]
  },
  {
   "cell_type": "code",
   "execution_count": 17,
   "metadata": {},
   "outputs": [
    {
     "name": "stdout",
     "output_type": "stream",
     "text": [
      "Mean Streams (Last 5 Years): 389761427.3851091\n",
      "\n",
      "Median Streams (Last 5 Years): 236940480.0\n",
      "\n",
      "Sorting: \n",
      "Top 5 Streamed Artists (Last 5 Years):\n",
      "+----------------+-----------------+\n",
      "|  artist_name   | spotify_streams |\n",
      "+----------------+-----------------+\n",
      "|  Harry Styles  |   11608645649   |\n",
      "|   Bad Bunny    |   9997799607    |\n",
      "|   The Weeknd   |   9905514870    |\n",
      "|  Taylor Swift  |   8608153810    |\n",
      "| Olivia Rodrigo |   7442148916    |\n",
      "+----------------+-----------------+\n",
      "\n",
      "Counting: \n",
      "Total Artist Count (Overall): 779\n"
     ]
    }
   ],
   "source": [
    "#filter last 5 years\n",
    "current_year = pd.to_datetime('today').year\n",
    "\n",
    "filtered_data = data[data['released_year'] >= current_year - 5]\n",
    "\n",
    "stream = filtered_data['spotify_streams'].tolist()\n",
    "\n",
    "stream = [float(value) for value in stream if str(value).replace('.', '').isdigit()]\n",
    "\n",
    "# Convert the list to a NumPy array for calculations\n",
    "stream_np = np.array(stream)\n",
    "\n",
    "# Calculate the mean\n",
    "mean = np.mean(stream_np)\n",
    "\n",
    "# Calculate the Median\n",
    "median = np.median(stream_np)\n",
    "\n",
    "# Print the mean & median\n",
    "print(\"Mean Streams (Last 5 Years):\", mean)\n",
    "print(\"\\nMedian Streams (Last 5 Years):\", median)\n",
    "\n",
    "# Group data by 'artist' and calculate the total streams for each artist\n",
    "artist_streams = filtered_data.groupby('artist_name')['spotify_streams'].sum().reset_index()\n",
    "\n",
    "# Convert 'streams' column to numeric values for proper sorting\n",
    "artist_streams['spotify_streams'] = pd.to_numeric(artist_streams['spotify_streams'], errors='coerce')\n",
    "\n",
    "# Drop rows with NaN values in the 'streams' column\n",
    "artist_streams = artist_streams.dropna(subset=['spotify_streams'])\n",
    "\n",
    "# Sort the DataFrame by total streams in descending order\n",
    "sorted_artist_streams = artist_streams.sort_values(by='spotify_streams', ascending=False)\n",
    "\n",
    "#Sorting: Display the top 5 streamed artists\n",
    "top_5_artists = sorted_artist_streams.head(5)\n",
    "\n",
    "print(\"\\nSorting: \\nTop 5 Streamed Artists (Last 5 Years):\")\n",
    "print(tabulate(top_5_artists[['artist_name', 'spotify_streams']], headers='keys', tablefmt='pretty', showindex=False))\n",
    "\n",
    "#Counting: Sum the counts of the 'artist(s)_name' column\n",
    "artist_counts = filtered_data['artist_name'].value_counts()\n",
    "\n",
    "# Calculate the total count of unique artists\n",
    "total_artist_count = artist_counts.sum()\n",
    "\n",
    "print(\"\\nCounting: \\nTotal Artist Count (Overall):\", total_artist_count)\n",
    "\n"
   ]
  },
  {
   "cell_type": "code",
   "execution_count": 19,
   "metadata": {},
   "outputs": [
    {
     "name": "stdout",
     "output_type": "stream",
     "text": [
      "Range (Last 5 Years): 3703892312\n",
      "Variance (Last 5 Years): 2.0307578612236026e+17\n",
      "Standard Deviation (Last 5 Years): 450639308.23038536\n",
      "Coefficient of Variation (Last 5 Years): 115.61926772839041\n"
     ]
    },
    {
     "name": "stderr",
     "output_type": "stream",
     "text": [
      "C:\\Users\\samue\\AppData\\Local\\Temp\\ipykernel_2512\\3551276032.py:6: SettingWithCopyWarning: \n",
      "A value is trying to be set on a copy of a slice from a DataFrame.\n",
      "Try using .loc[row_indexer,col_indexer] = value instead\n",
      "\n",
      "See the caveats in the documentation: https://pandas.pydata.org/pandas-docs/stable/user_guide/indexing.html#returning-a-view-versus-a-copy\n",
      "  filtered_data.loc[:, 'spotify_streams'] = pd.to_numeric(filtered_data['spotify_streams'], errors='coerce')\n"
     ]
    }
   ],
   "source": [
    "# Filter data for the last 5 years\n",
    "current_year = pd.to_datetime('today').year\n",
    "filtered_data = data[data['released_year'] >= current_year - 5]\n",
    "\n",
    "# Convert 'streams' column to numeric values, handling errors by setting errors='coerce'\n",
    "filtered_data.loc[:, 'spotify_streams'] = pd.to_numeric(filtered_data['spotify_streams'], errors='coerce')\n",
    "\n",
    "# Drop rows with NaN values in the 'streams' column\n",
    "filtered_data = filtered_data.dropna(subset=['spotify_streams'])\n",
    "\n",
    "# Calculate range\n",
    "data_range = np.ptp(filtered_data['spotify_streams'])\n",
    "\n",
    "# Calculate variance\n",
    "variance = np.var(filtered_data['spotify_streams'], ddof=1)\n",
    "\n",
    "# Calculate standard deviation\n",
    "std_deviation = np.std(filtered_data['spotify_streams'], ddof=1)\n",
    "\n",
    "# Calculate coefficient of variation\n",
    "coefficient_of_variation = (std_deviation / np.mean(filtered_data['spotify_streams'])) * 100\n",
    "\n",
    "print(\"Range (Last 5 Years):\", data_range)\n",
    "print(\"Variance (Last 5 Years):\", variance)\n",
    "print(\"Standard Deviation (Last 5 Years):\", std_deviation)\n",
    "print(\"Coefficient of Variation (Last 5 Years):\", coefficient_of_variation)\n"
   ]
  },
  {
   "cell_type": "markdown",
   "metadata": {},
   "source": [
    "<h3 id=\"data_visualization\"><u>Data visualization</u></h3>\n",
    "\n",
    "<p>This represents the data in a graphical or visual formats which could help the decision makers to find the insights effectively. This provides clarity and simplifies the data into a graphical representation. This helps the analysts to create dashboards out of charts, graphs which could empowers them to find the outliers, explore the hidden insights, and identify anomalies, if any </p>"
   ]
  },
  {
   "cell_type": "markdown",
   "metadata": {},
   "source": [
    "<h5 id=\"scatter_plot\"><u>Scatter plot</u></h5>\n",
    "\n",
    "<p>Visualizing the distribution of bpm values from 80 to 120 and its danceability value</p>"
   ]
  },
  {
   "cell_type": "code",
   "execution_count": 20,
   "metadata": {},
   "outputs": [
    {
     "data": {
      "image/png": "[encoded data removed]",
      "text/plain": [
       "<Figure size 640x480 with 1 Axes>"
      ]
     },
     "metadata": {},
     "output_type": "display_data"
    }
   ],
   "source": [
    "import matplotlib.pyplot as plt\n",
    "\n",
    "data_copy = data\n",
    "\n",
    "filtered_scatter_data = data_copy.query('bpm >= 80 and bpm <= 120')\n",
    "\n",
    "bpm_value = filtered_scatter_data[\"bpm\"]\n",
    "danceability_value = filtered_scatter_data[\"danceability_%\"]\n",
    "\n",
    "plt.scatter(danceability_value, bpm_value)\n",
    "\n",
    "plt.title(\"Distribution of bpm between 80 and 120 and it's danceability percentage\")\n",
    "plt.xlabel(\"danceability_percent\")\n",
    "plt.ylabel(\"bpm\")\n",
    "\n",
    "plt.show()"
   ]
  },
  {
   "cell_type": "markdown",
   "metadata": {},
   "source": [
    "<h5 id=\"bar_chart\"><u>Bar chart</u></h5>\n",
    "\n",
    "<p>Visualizing the count of every key of the songs</p>"
   ]
  },
  {
   "cell_type": "code",
   "execution_count": 21,
   "metadata": {},
   "outputs": [
    {
     "data": {
      "text/plain": [
       "<Axes: title={'center': \"Song's key count\"}, xlabel='Keys', ylabel='Counts'>"
      ]
     },
     "execution_count": 21,
     "metadata": {},
     "output_type": "execute_result"
    },
    {
     "data": {
      "image/png": "[encoded data removed]",
      "text/plain": [
       "<Figure size 640x480 with 1 Axes>"
      ]
     },
     "metadata": {},
     "output_type": "display_data"
    }
   ],
   "source": [
    "key_value = data_copy[\"key\"]\n",
    "sorted_keys = key_value.value_counts().sort_index()\n",
    "sorted_keys.plot(kind=\"bar\", xlabel=\"Keys\", ylabel=\"Counts\", color=\"red\", title=\"Song's key count\")"
   ]
  },
  {
   "cell_type": "markdown",
   "metadata": {},
   "source": [
    "<h5 id=\"line_graph\"><u>Line graph (Time-series visualization)</u></h5>\n",
    "\n",
    "<p>Visualizing the count of every key of the songs</p>"
   ]
  },
  {
   "cell_type": "code",
   "execution_count": 22,
   "metadata": {},
   "outputs": [
    {
     "data": {
      "image/png": "[encoded data removed]",
      "text/plain": [
       "<Figure size 640x480 with 1 Axes>"
      ]
     },
     "metadata": {},
     "output_type": "display_data"
    }
   ],
   "source": [
    "year_wise_count = data_copy.groupby(\"released_year\")[\"artist_name\"].count()\n",
    "\n",
    "year_wise_count = year_wise_count.to_dict()\n",
    "\n",
    "years = year_wise_count.keys()\n",
    "counts = year_wise_count.values()\n",
    "\n",
    "plt.plot(years, counts, marker= '.')\n",
    "plt.xticks(range(min(years),max(years), 10))\n",
    "plt.title(\"Time series visualization\")\n",
    "plt.xlabel(\"Year\")\n",
    "plt.ylabel(\"Artist count\")\n",
    "plt.grid(True)\n",
    "\n",
    "plt.show()"
   ]
  }
 ],
 "metadata": {
  "kernelspec": {
   "display_name": "Python 3 (ipykernel)",
   "language": "python",
   "name": "python3"
  },
  "language_info": {
   "codemirror_mode": {
    "name": "ipython",
    "version": 3
   },
   "file_extension": ".py",
   "mimetype": "text/x-python",
   "name": "python",
   "nbconvert_exporter": "python",
   "pygments_lexer": "ipython3",
   "version": "3.11.4"
  }
 },
 "nbformat": 4,
 "nbformat_minor": 2
}
